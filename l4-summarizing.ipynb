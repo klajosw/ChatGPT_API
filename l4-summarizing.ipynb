{
 "cells": [
  {
   "cell_type": "markdown",
   "id": "87857393-6369-4b66-87c9-5f3253edf28e",
   "metadata": {},
   "source": [
    "# Summarizing\n",
    "In this lesson, you will summarize text with a focus on specific topics.\n",
    "\n",
    "## Setup"
   ]
  },
  {
   "cell_type": "code",
   "execution_count": 1,
   "id": "8ac673e1",
   "metadata": {
    "height": 149
   },
   "outputs": [],
   "source": [
    "import openai\n",
    "import os\n",
    "\n",
    "from dotenv import load_dotenv, find_dotenv\n",
    "_ = load_dotenv(find_dotenv()) # read local .env file\n",
    "\n",
    "openai.api_key  = os.getenv('OPENAI_API_KEY')"
   ]
  },
  {
   "cell_type": "code",
   "execution_count": 2,
   "id": "66de8ca6",
   "metadata": {
    "height": 183
   },
   "outputs": [],
   "source": [
    "def get_completion(prompt, model=\"gpt-3.5-turbo\"): # Andrew mentioned that the prompt/ completion paradigm is preferable for this class\n",
    "    messages = [{\"role\": \"user\", \"content\": prompt}]\n",
    "    response = openai.ChatCompletion.create(\n",
    "        model=model,\n",
    "        messages=messages,\n",
    "        temperature=0, # this is the degree of randomness of the model's output\n",
    "    )\n",
    "    return response.choices[0].message[\"content\"]\n"
   ]
  },
  {
   "cell_type": "markdown",
   "id": "387b0686-bea6-41a2-b879-88721dc0ec10",
   "metadata": {},
   "source": [
    "## Text to summarize"
   ]
  },
  {
   "cell_type": "code",
   "execution_count": 3,
   "id": "0ce2cf3c",
   "metadata": {
    "height": 200
   },
   "outputs": [],
   "source": [
    "prod_review = \"\"\"\n",
    "Ezt a pandás plüssjátékot a lányom születésnapjára kaptam \\\n",
    "aki szereti és mindenhova viszi. puha és \\\n",
    "szuper aranyos, és az arca barátságos megjelenésű. ez \\\n",
    "kicsit kicsi ahhoz képest, amit fizettem. szerintem ott\\\n",
    "más lehetőségek is lehetnek, amelyek nagyobbak a \\\n",
    "ugyanaz az ár. A vártnál egy nappal korábban érkezett, \\\n",
    "így magamnak kellett játszanom vele, mielőtt odaadtam \\\n",
    "neki.\n",
    "\"\"\""
   ]
  },
  {
   "cell_type": "markdown",
   "id": "5d95eba0-7744-491a-a30a-8ee687303b7a",
   "metadata": {},
   "source": [
    "## Summarize with a word/sentence/character limit"
   ]
  },
  {
   "cell_type": "code",
   "execution_count": 4,
   "id": "0c3023c6",
   "metadata": {
    "height": 251
   },
   "outputs": [
    {
     "name": "stdout",
     "output_type": "stream",
     "text": [
      "Puha és aranyos pandás plüssjáték, de kicsi az árához képest. Korábban érkezett, mint várták.\n"
     ]
    }
   ],
   "source": [
    "prompt = f\"\"\"\n",
    "Az Ön feladata, hogy rövid összefoglalót készítsen egy termékről \\\n",
    "vélemény egy e-kereskedelmi webhelyről.\n",
    "\n",
    "Foglalja össze az alábbi áttekintést, hármasával határolva\n",
    "backticks, legfeljebb 30 szóban.\n",
    "\n",
    "Felülvizsgálat: ```{prod_review}```\n",
    "\"\"\"\n",
    "\n",
    "response = get_completion(prompt)\n",
    "print(response)\n"
   ]
  },
  {
   "cell_type": "markdown",
   "id": "90832908-3b3a-459b-b595-bbe15c2a72fa",
   "metadata": {},
   "source": [
    "## Summarize with a focus on shipping and delivery"
   ]
  },
  {
   "cell_type": "code",
   "execution_count": 5,
   "id": "d850bdd2",
   "metadata": {
    "height": 285
   },
   "outputs": [
    {
     "name": "stdout",
     "output_type": "stream",
     "text": [
      "A pandás plüssjáték puha és aranyos, de kicsi az árához képest. A szállítás azonban gyors volt, egy nappal korábban érkezett.\n"
     ]
    }
   ],
   "source": [
    "prompt = f\"\"\"\n",
    "Az Ön feladata, hogy rövid összefoglalót készítsen egy termékről \\\n",
    "vélemény egy e-kereskedelmi webhelyről, hogy visszajelzést adjon a \\\n",
    "Szállítási osztály.\n",
    "\n",
    "Foglalja össze az alábbi áttekintést, hármasával határolva\n",
    "visszajelzések, legfeljebb 30 szóban, és bármilyen szempontra összpontosítva \\\n",
    "amelyek megemlítik a termék szállítását és kiszállítását.\n",
    "\n",
    "Felülvizsgálat: ```{prod_review}```\n",
    "\"\"\"\n",
    "\n",
    "response = get_completion(prompt)\n",
    "print(response)\n"
   ]
  },
  {
   "cell_type": "markdown",
   "id": "01204385-1d27-420c-80ee-bd4b524550f6",
   "metadata": {},
   "source": [
    "## Summarize with a focus on price and value"
   ]
  },
  {
   "cell_type": "code",
   "execution_count": 6,
   "id": "6d865432",
   "metadata": {
    "height": 302
   },
   "outputs": [
    {
     "name": "stdout",
     "output_type": "stream",
     "text": [
      "- Puha és aranyos pandás plüssjáték\n",
      "- Kicsit kicsi az árához képest\n",
      "- Korábban érkezett, mint várták\n"
     ]
    }
   ],
   "source": [
    "prompt = f\"\"\"\n",
    "Az Ön feladata, hogy rövid összefoglalót készítsen egy termékről \\\n",
    "vélemény egy e-kereskedelmi webhelyről, hogy visszajelzést adjon a \\\n",
    "árképzési osztály, felelős a \\\n",
    "a termék ára.\n",
    "\n",
    "Foglalja össze az alábbi áttekintést, hármasával határolva\n",
    "visszajelzések, legfeljebb 30 szóban, és bármilyen szempontra összpontosítva \\\n",
    "amelyek relevánsak az ár és az észlelt érték szempontjából.\n",
    "\n",
    "Felülvizsgálat: ```{prod_review}```\n",
    "\"\"\"\n",
    "\n",
    "response = get_completion(prompt)\n",
    "print(response)\n"
   ]
  },
  {
   "cell_type": "markdown",
   "id": "21a561c4-d9a0-48a8-86c4-725746fb08df",
   "metadata": {},
   "source": [
    "#### Comment\n",
    "- Summaries include topics that are not related to the topic of focus."
   ]
  },
  {
   "cell_type": "markdown",
   "id": "9aff99cd-dc09-467c-bd09-897ffe06a232",
   "metadata": {},
   "source": [
    "## Try \"extract\" instead of \"summarize\""
   ]
  },
  {
   "cell_type": "code",
   "execution_count": 7,
   "id": "190943b0",
   "metadata": {
    "height": 268
   },
   "outputs": [
    {
     "name": "stdout",
     "output_type": "stream",
     "text": [
      "\"A vártnál egy nappal korábban érkezett\" - szállítással kapcsolatos információ. \"Kicsit kicsi ahhoz képest, amit fizettem\" - lehet, hogy a szállítási költségek magasak voltak. \"Ottmás lehetőségek is lehetnek, amelyek nagyobbak ugyanaz az ár\" - lehet, hogy a vásárló elégedetlen a szállítási árakkal és a választék hiányával. Szállítás: korai érkezés, magának kellett játszania a termékkel.\n"
     ]
    }
   ],
   "source": [
    "prompt = f\"\"\"\n",
    "Az Ön feladata releváns információk kinyerése a \\\n",
    "termékértékelés egy e-kereskedelmi webhelyről, hogy \\\n",
    "visszajelzés a szállítási osztálynak.\n",
    "\n",
    "Az alábbi ismertetőből, hármas idézőjelekkel határolva \\\n",
    "kivonja a szállítással kapcsolatos információkat és \\\n",
    "szállítás. 30 szóra korlátozódik.\n",
    "\n",
    "Felülvizsgálat: ```{prod_review}```\n",
    "\"\"\"\n",
    "\n",
    "response = get_completion(prompt)\n",
    "print(response)"
   ]
  },
  {
   "cell_type": "markdown",
   "id": "f513da2e-f89c-4c91-8456-b79c630e70c9",
   "metadata": {},
   "source": [
    "## Summarize multiple product reviews"
   ]
  },
  {
   "cell_type": "code",
   "execution_count": 8,
   "id": "027822c2",
   "metadata": {
    "height": 1288
   },
   "outputs": [],
   "source": [
    "\n",
    "review_1 = prod_review \n",
    "\n",
    "# review for a standing lamp\n",
    "review_2 = \"\"\"\n",
    "Kellett egy szép lámpa a hálószobámba, és ez a \\\n",
    "további tárhely volt, és az ára nem volt túl magas \\\n",
    "pont. Gyorsan megvan - 2 napon belül megérkezett. A húr \\\n",
    "hogy a lámpa szállítás közben eltört és a cég \\\n",
    "boldogan küldött át egy újat. Néhány napon belül megérkezett \\\n",
    "is. Könnyű volt összerakni. Aztán volt egy \\\n",
    "hiányzik a rész, ezért felvettem a kapcsolatot az ügyfélszolgálatukkal, és \\\n",
    "nagyon gyorsan megkaptam a hiányzó darabot! Úgy tűnik \\\n",
    "hogy egy nagyszerű cég legyen, amely törődik az ügyfelekkel \\\n",
    "és termékek.\n",
    "\"\"\"\n",
    "\n",
    "# review for an electric toothbrush\n",
    "review_3 = \"\"\"\n",
    "A foghigiénikusom elektromos fogkefét javasolt, \\\n",
    "ezért kaptam ezt. Úgy tűnik, hogy az akkumulátor élettartama \\\n",
    "eddig elég lenyűgöző. Az első töltés után és \\\n",
    "a töltőt bedugva hagyja az első héten, hogy \\\n",
    "az akkumulátor állapotát, kihúztam a töltőt és \\\n",
    "utoljára napi kétszeri fogmosásra használtam \\\n",
    "3 hét ugyanazon a díjon. De a fogkefe feje \\\n",
    "Ez túl kicsi. Láttam nagyobb babafogkefét, mint \\\n",
    "ezt. Bárcsak nagyobb lenne a fej különböző \\\n",
    "hosszú sörték, hogy jobban beférjenek a fogak közé, mert \\\n",
    "ez nem. Összességében ha meg tudod szerezni ezt \\\n",
    "50 dollár körül, ez jó üzlet. A gyártó \\\n",
    "a cserefejek meglehetősen drágák, de lehet \\\n",
    "vásároljon általánosakat, amelyek kedvezőbb árúak. ez \\\n",
    "a fogkefe olyan érzést kelt bennem, mintha fogorvosnál jártam volna \\\n",
    "minden nap. A fogaim szikrázóan tiszták!\n",
    "\"\"\"\n",
    "\n",
    "# review for a blender\n",
    "review_4 = \"\"\"\n",
    "Tehát továbbra is a 17 darabos rendszer volt a szezonális \\\n",
    "november hónapban körülbelül 49 dollárért eladó, kb.\n",
    "félig olcsóbban, de valamiért (nevezzük árkivágásnak) \\\n",
    "december második hetében az árak mind elmentek \\\n",
    "akár 70 és 89 dollár között ugyanazért \\\n",
    "rendszer. És a 11 darabos rendszer körülbelül 10 dollárt vagy \\\n",
    "tehát árban is a korábbi 29 dolláros eladási árból. \\\n",
    "Szóval jól néz ki, de ha az alapot nézed, akkor a rész \\\n",
    "ahol a penge a helyére kattan, nem néz ki olyan jól \\\n",
    "mint a korábbi, néhány évvel ezelőtti kiadásokban, de én \\\n",
    "nagyon gyengéd leszek vele (például összetöröm \\\n",
    "nagyon kemény tárgyak, például bab, jég, rizs stb. a \\\n",
    "először turmixgépben, majd porrá törjük őket adag méretben \\\n",
    "A turmixgépbe akarok majd váltani a habverésre \\\n",
    "pengét finomabb liszthez, és használja a keresztvágó pengét \\\n",
    "először turmix készítésnél, majd a lapos pengét használd \\\n",
    "ha finomabbra/kevésbé pépesebbre van szükségem). Különleges tipp készítéskor \\\n",
    "turmixokat, finomra vágva és lefagyasztva a gyümölcsöt és \\\n",
    "zöldségek (ha spenótot használunk-enyhén pörkölt lágyítsa meg a \\\n",
    "a spenótot, majd lefagyasztjuk felhasználásig – és ha elkészítjük \\\n",
    "sorbet, használjon kis és közepes méretű robotgépet) \\\n",
    "amelyet így kíván használni, elkerülheti, hogy így \\\n",
    "sok jég, ha egyáltalán – a turmix elkészítésekor. \\\n",
    "Körülbelül egy év múlva a motor vicces hangot adott. \\\n",
    "Felhívtam az ügyfélszolgálatot, de lejárt a garancia \\\n",
    "már, ezért kellett vennem egy másikat. Tájékoztatásul: az általános \\\n",
    "az ilyen típusú termékek minősége megszűnt, így \\\n",
    "valahogy számítanak a márka felismerésére és \\\n",
    "fogyasztói hűség az eladások fenntartásához. kb. \\\n",
    "két nap.\n",
    "\"\"\"\n",
    "\n",
    "reviews = [review_1, review_2, review_3, review_4]\n",
    "\n"
   ]
  },
  {
   "cell_type": "code",
   "execution_count": 9,
   "id": "b7c39cc8",
   "metadata": {
    "height": 268
   },
   "outputs": [
    {
     "name": "stdout",
     "output_type": "stream",
     "text": [
      "0 Puha, aranyos pandás plüssjáték, kicsit kicsi az árához képest. Korábban érkezett. \n",
      "\n",
      "1 Szép lámpa, jó ár, gyors szállítás, jó ügyfélszolgálat. \n",
      "\n",
      "2 Az elektromos fogkefe jó, de a feje túl kicsi. Jó ár-érték arány. \n",
      "\n",
      "3 Összefoglaló: Turmixgép, árak változóak, részek minősége változó, javasolt fagyasztott gyümölcs használata. \n",
      "\n"
     ]
    }
   ],
   "source": [
    "for i in range(len(reviews)):\n",
    "    prompt = f\"\"\"\n",
    "     Az Ön feladata, hogy rövid összefoglalót készítsen egy termékről \\\n",
    "     vélemény egy e-kereskedelmi webhelyről.\n",
    "\n",
    "     Foglalja össze az alábbi értékelést, háromszoros \\\n",
    "     legfeljebb 20 szót ír vissza.\n",
    "\n",
    "     Felülvizsgálat:```{reviews[i]}```\n",
    "    \"\"\"\n",
    "\n",
    "    response = get_completion(prompt)\n",
    "    print(i, response, \"\\n\")\n"
   ]
  },
  {
   "cell_type": "markdown",
   "id": "e0c9f921-8672-4124-bad6-8bee65078ccb",
   "metadata": {},
   "source": [
    "## Try experimenting on your own!"
   ]
  },
  {
   "cell_type": "code",
   "execution_count": null,
   "id": "d05d8a20-86f2-4613-835e-41c49a504b5b",
   "metadata": {
    "height": 30
   },
   "outputs": [],
   "source": []
  }
 ],
 "metadata": {
  "kernelspec": {
   "display_name": "Python 3 (ipykernel)",
   "language": "python",
   "name": "python3"
  },
  "language_info": {
   "codemirror_mode": {
    "name": "ipython",
    "version": 3
   },
   "file_extension": ".py",
   "mimetype": "text/x-python",
   "name": "python",
   "nbconvert_exporter": "python",
   "pygments_lexer": "ipython3",
   "version": "3.9.16"
  }
 },
 "nbformat": 4,
 "nbformat_minor": 5
}
