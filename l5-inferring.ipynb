{
 "cells": [
  {
   "cell_type": "markdown",
   "id": "3630c235-f891-4874-bd0a-5277d4d6aa82",
   "metadata": {},
   "source": [
    "# Inferring\n",
    "In this lesson, you will infer sentiment and topics from product reviews and news articles.\n",
    "\n",
    "## Setup"
   ]
  },
  {
   "cell_type": "code",
   "execution_count": 1,
   "id": "39689e67",
   "metadata": {
    "height": 132
   },
   "outputs": [],
   "source": [
    "import openai\n",
    "import os\n",
    "\n",
    "from dotenv import load_dotenv, find_dotenv\n",
    "_ = load_dotenv(find_dotenv()) # read local .env file\n",
    "\n",
    "openai.api_key  = os.getenv('OPENAI_API_KEY')"
   ]
  },
  {
   "cell_type": "code",
   "execution_count": 2,
   "id": "e82f5577",
   "metadata": {
    "height": 149
   },
   "outputs": [],
   "source": [
    "def get_completion(prompt, model=\"gpt-3.5-turbo\"):\n",
    "    messages = [{\"role\": \"user\", \"content\": prompt}]\n",
    "    response = openai.ChatCompletion.create(\n",
    "        model=model,\n",
    "        messages=messages,\n",
    "        temperature=0, # this is the degree of randomness of the model's output\n",
    "    )\n",
    "    return response.choices[0].message[\"content\"]"
   ]
  },
  {
   "cell_type": "markdown",
   "id": "51d2fdfa-c99f-4750-8574-dba7712cd7f0",
   "metadata": {},
   "source": [
    "## Product review text"
   ]
  },
  {
   "cell_type": "code",
   "execution_count": 3,
   "id": "b0f3b49b",
   "metadata": {
    "height": 200
   },
   "outputs": [],
   "source": [
    "lamp_review = \"\"\"\n",
    "Kellett egy szép lámpa a hálószobámba, és ez volt \\\n",
    "további tárhely és nem túl magas ár. \\\n",
    "Gyorsan megvan. A lámpánk húrja elszakadt a \\\n",
    "tranzit és a cég boldogan küldött át egy újat. \\\n",
    "Pár napon belül meg is jött. Könnyű volt feltenni \\\n",
    "együtt. Hiányzó alkatrészem volt, ezért felvettem a kapcsolatot a \\\n",
    "támogatást és nagyon gyorsan megkaptam a hiányzó darabot! \\\n",
    "Szerintem a Lumina egy nagyszerű társaság, aki törődik vele \\\n",
    "vásárlóikról és termékeikről!!\n",
    "\"\"\""
   ]
  },
  {
   "cell_type": "markdown",
   "id": "30d6e4bd-3337-45a3-8c99-a734cdd06743",
   "metadata": {},
   "source": [
    "## Sentiment (positive/negative)"
   ]
  },
  {
   "cell_type": "code",
   "execution_count": 4,
   "id": "e3157601",
   "metadata": {
    "height": 149
   },
   "outputs": [
    {
     "name": "stdout",
     "output_type": "stream",
     "text": [
      "Mivel az értékelés csak pozitívumokat említ, így azt gondolom, hogy a termékismertető eléggé elfogult és nem ad objektív véleményt a termékről. Azonban, ha a termék tényleg jó minőségű és a cég valóban ilyen jó szolgáltatást nyújt, akkor az értékelés valószínűleg igaz lehet. Azonban, ha valaki az értékelés alapján dönt a termék megvásárlásáról, akkor érdemes lehet további véleményeket is keresni, hogy teljes képet kapjon a termékről és a cég szolgáltatásairól.\n"
     ]
    }
   ],
   "source": [
    "prompt = f\"\"\"\n",
    "Mi a véleménye a következő termékismertetőről,\n",
    "amelyet hármas backtickkel határolnak?\n",
    "\n",
    "Vélemény szövege: '''{lamp_review}'''\n",
    "\"\"\"\n",
    "response = get_completion(prompt)\n",
    "print(response)"
   ]
  },
  {
   "cell_type": "code",
   "execution_count": 5,
   "id": "acf9ca16",
   "metadata": {
    "height": 200
   },
   "outputs": [
    {
     "name": "stdout",
     "output_type": "stream",
     "text": [
      "Pozitív.\n"
     ]
    }
   ],
   "source": [
    "prompt = f\"\"\"\n",
    "Mi a véleménye a következő termékismertetőről,\n",
    "amelyet hármas backtickkel határolnak?\n",
    "\n",
    "Válaszát egyetlen szóban adja meg, vagy \"pozitív\" \\\n",
    "vagy \"negatív\".\n",
    "\n",
    "Vélemény szövege: '''{lamp_review}'''\n",
    "\"\"\"\n",
    "response = get_completion(prompt)\n",
    "print(response)"
   ]
  },
  {
   "cell_type": "markdown",
   "id": "81d2a973-1fa4-4a35-ae35-a2e746c0e91b",
   "metadata": {},
   "source": [
    "## Identify types of emotions"
   ]
  },
  {
   "cell_type": "code",
   "execution_count": 6,
   "id": "8aa7934b",
   "metadata": {
    "height": 183
   },
   "outputs": [
    {
     "name": "stdout",
     "output_type": "stream",
     "text": [
      "boldogság, elégedettség, megkönnyebbülés, elégedettség, bizalom\n"
     ]
    }
   ],
   "source": [
    "prompt = f\"\"\"\n",
    "Határozza meg azon érzelmek listáját, amelyeket a \\\n",
    "az alábbi áttekintés kifejezi. Legfeljebb \\\n",
    "öt elem a listában. Formázza válaszát \\\n",
    "vesszővel elválasztott kisbetűs szavak.\n",
    "\n",
    "Szöveg áttekintése: '''{lamp_review}'''\n",
    "\"\"\"\n",
    "response = get_completion(prompt)\n",
    "print(response)"
   ]
  },
  {
   "cell_type": "markdown",
   "id": "a428d093-51c9-461c-b41e-114e80876409",
   "metadata": {},
   "source": [
    "## Identify anger"
   ]
  },
  {
   "cell_type": "code",
   "execution_count": 7,
   "id": "dba1a538",
   "metadata": {
    "height": 166
   },
   "outputs": [
    {
     "name": "stdout",
     "output_type": "stream",
     "text": [
      "Igen.\n"
     ]
    }
   ],
   "source": [
    "prompt = f\"\"\"\n",
    "Haragot fejez ki a következő értékelés írója?\\\n",
    "Az áttekintést háromszoros backtick határolja. \\\n",
    "Válaszát igennel vagy nemmel adja meg.\n",
    "\n",
    "Szöveg áttekintése: '''{lamp_review}'''\n",
    "\"\"\"\n",
    "response = get_completion(prompt)\n",
    "print(response)"
   ]
  },
  {
   "cell_type": "markdown",
   "id": "936a771e-ca78-4e55-8088-2da6f3820ddc",
   "metadata": {},
   "source": [
    "## Extract product and company name from customer reviews"
   ]
  },
  {
   "cell_type": "code",
   "execution_count": 8,
   "id": "a13bea1b",
   "metadata": {
    "height": 285
   },
   "outputs": [
    {
     "name": "stdout",
     "output_type": "stream",
     "text": [
      "```json\n",
      "{\n",
      "  \"cikk\": \"lámpa\",\n",
      "  \"márka\": \"Lumina\"\n",
      "}\n",
      "```\n"
     ]
    }
   ],
   "source": [
    "prompt = f\"\"\"\n",
    "Azonosítsa a következő elemeket a vélemény szövegéből:\n",
    "- A lektor által vásárolt elem\n",
    "- A tételt gyártó cég\n",
    "\n",
    "Az áttekintést háromszoros backtick határolja. \\\n",
    "Formázza válaszát JSON-objektumként a következővel: \\\n",
    "A \"cikk\" és a \"márka\" a kulcsok.\n",
    "Ha az információ nem található meg, használja az \"ismeretlen\" kifejezést \\\n",
    "mint az érték.\n",
    "Legyen a lehető legrövidebb válasz.\n",
    "  \n",
    "Szöveg áttekintése: '''{lamp_review}'''\n",
    "\"\"\"\n",
    "response = get_completion(prompt)\n",
    "print(response)"
   ]
  },
  {
   "cell_type": "markdown",
   "id": "a38880a5-088f-4609-9913-f8fa41fb7ba0",
   "metadata": {},
   "source": [
    "## Doing multiple tasks at once"
   ]
  },
  {
   "cell_type": "code",
   "execution_count": 9,
   "id": "e7dda9e5",
   "metadata": {
    "height": 336
   },
   "outputs": [
    {
     "name": "stdout",
     "output_type": "stream",
     "text": [
      "```json\n",
      "{\n",
      "  \"érzelem\": \"pozitív\",\n",
      "  \"harag\": false,\n",
      "  \"cikk\": \"lámpa\",\n",
      "  \"márka\": \"Lumina\"\n",
      "}\n",
      "```\n"
     ]
    }
   ],
   "source": [
    "prompt = f\"\"\"\n",
    "Azonosítsa a következő elemeket a vélemény szövegéből:\n",
    "- hangulat (pozitív vagy negatív)\n",
    "- Haragot fejez ki a bíráló? (igaz vagy hamis)\n",
    "- A lektor által vásárolt elem\n",
    "- A tételt gyártó cég\n",
    "\n",
    "Az áttekintést háromszoros backtick határolja. \\\n",
    "Formázza válaszát JSON-objektumként a következővel: \\\n",
    "A \"érzelem\", \"harag\", \"cikk\" és \"márka\" a kulcsok.\n",
    "Ha az információ nem található meg, használja az \"ismeretlen\" kifejezést \\\n",
    "mint az érték.\n",
    "Legyen a lehető legrövidebb válasz.\n",
    "Formázza az Anger értéket logikai értékként.\n",
    "\n",
    "Szöveg áttekintése: '''{lamp_review}'''\n",
    "\"\"\"\n",
    "response = get_completion(prompt)\n",
    "print(response)"
   ]
  },
  {
   "cell_type": "markdown",
   "id": "235fc223-2c89-49ec-ac2d-78a8e74a43ac",
   "metadata": {},
   "source": [
    "## Inferring topics"
   ]
  },
  {
   "cell_type": "code",
   "execution_count": 10,
   "id": "8a74cc3e",
   "metadata": {
    "height": 472
   },
   "outputs": [],
   "source": [
    "story = \"\"\"\n",
    "A kormány által nemrégiben végzett felmérés szerint\n",
    "a közszférában dolgozókat felkérték, hogy értékeljék szintjüket\n",
    "elégedettek az osztállyal, ahol dolgoznak.\n",
    "Az eredményekből kiderült, hogy a NASA volt a legnépszerűbb\n",
    "osztály 95%-os elégedettségi osztályzattal.\n",
    "\n",
    "A NASA egyik alkalmazottja, John Smith kommentálta az eredményeket:\n",
    "kijelentve: „Nem vagyok meglepve, hogy a NASA végzett az élen.\n",
    "Ez egy nagyszerű hely, ahol csodálatos emberekkel és\n",
    "hihetetlen lehetőségeket. Büszke vagyok rá, hogy része lehetek\n",
    "egy ilyen innovatív szervezet.\"\n",
    "\n",
    "Az eredményeket a NASA vezetősége is üdvözölte,\n",
    "Tom Johnson rendező kijelentette: „Nagyon örülünk\n",
    "hallottam, hogy alkalmazottaink elégedettek a NASA-nál végzett munkájukkal.\n",
    "Tehetséges és elhivatott csapatunk van, akik fáradhatatlanul dolgoznak\n",
    "hogy elérjük céljainkat, és fantasztikus látni, hogy az övék\n",
    "a kemény munka kifizetődik.\"\n",
    "\n",
    "A felmérésből az is kiderült, hogy a\n",
    "A társadalombiztosítási hivatal volt a legalacsonyabb elégedettséggel\n",
    "besorolással, az alkalmazottak mindössze 45%-a jelezte, hogy igen\n",
    "elégedettek a munkájukkal. A kormány vállalta\n",
    "kezelni a munkavállalók által a felmérés során felvetett aggályokat, és\n",
    "törekedni kell a munkával való elégedettség javítására minden osztályon.\n",
    "\"\"\""
   ]
  },
  {
   "cell_type": "markdown",
   "id": "a8ea91d6-e841-4ee2-bed9-ca4a36df177f",
   "metadata": {},
   "source": [
    "## Infer 5 topics"
   ]
  },
  {
   "cell_type": "code",
   "execution_count": 11,
   "id": "5c267cbe",
   "metadata": {
    "height": 217
   },
   "outputs": [
    {
     "name": "stdout",
     "output_type": "stream",
     "text": [
      "Felmérés eredményei, NASA elégedettségi osztályzata, Társadalombiztosítási hivatal elégedettségi osztálya, Alkalmazottak véleménye, Munkahelyi elégedettség javítása\n"
     ]
    }
   ],
   "source": [
    "prompt = f\"\"\"\n",
    "Határozzon meg öt témát, amelyekről a \\\n",
    "következő szöveg, amelyet háromszoros backtick határol.\n",
    "\n",
    "Minden elem legyen egy vagy két szó hosszú.\n",
    "\n",
    "Válaszát vesszővel elválasztott elemek listájaként formázza.\n",
    "\n",
    "Szövegminta: '''{story}'''\n",
    "\"\"\"\n",
    "response = get_completion(prompt)\n",
    "print(response)"
   ]
  },
  {
   "cell_type": "code",
   "execution_count": 12,
   "id": "f92f90fe",
   "metadata": {
    "height": 30
   },
   "outputs": [
    {
     "data": {
      "text/plain": [
       "['Felmérés eredményei',\n",
       " ' NASA elégedettségi osztályzata',\n",
       " ' Társadalombiztosítási hivatal elégedettségi osztálya',\n",
       " ' Alkalmazottak véleménye',\n",
       " ' Munkahelyi elégedettség javítása']"
      ]
     },
     "execution_count": 12,
     "metadata": {},
     "output_type": "execute_result"
    }
   ],
   "source": [
    "response.split(sep=',')"
   ]
  },
  {
   "cell_type": "code",
   "execution_count": 13,
   "id": "94b8fa65",
   "metadata": {
    "height": 81
   },
   "outputs": [],
   "source": [
    "topic_list = [\n",
    "\"nasa\", \"helyi önkormányzat\", \"mérnökség\",\n",
    "     \"munkavállalók elégedettsége\", \"szövetségi kormány\"\n",
    "]"
   ]
  },
  {
   "cell_type": "markdown",
   "id": "34be1d2a-1309-4512-841a-b6f67338938b",
   "metadata": {},
   "source": [
    "## Make a news alert for certain topics"
   ]
  },
  {
   "cell_type": "code",
   "execution_count": 14,
   "id": "626c5b8e",
   "metadata": {
    "height": 234
   },
   "outputs": [
    {
     "name": "stdout",
     "output_type": "stream",
     "text": [
      "nasa: 1\n",
      "helyi önkormányzat: 0\n",
      "mérnökség: 0\n",
      "munkavállalók elégedettsége: 1\n",
      "szövetségi kormány: 1\n"
     ]
    }
   ],
   "source": [
    "prompt = f\"\"\"\n",
    "Határozza meg, hogy a következő listában szereplő \\\n",
    "témák egy téma az alábbi szövegben, amely\n",
    "hármas backtickkel határolják.\n",
    "\n",
    "Válaszát listában adja meg 0-val vagy 1-gyel minden témakörhöz.\\\n",
    "\n",
    "Témakörök listája:{\", \".join(topic_list)}\n",
    "\n",
    "minta szöveg: '''{story}'''\n",
    "\"\"\"\n",
    "response = get_completion(prompt)\n",
    "print(response)"
   ]
  },
  {
   "cell_type": "code",
   "execution_count": 15,
   "id": "902a7c74",
   "metadata": {
    "height": 64
   },
   "outputs": [
    {
     "name": "stdout",
     "output_type": "stream",
     "text": [
      "ALERT: New NASA story!\n"
     ]
    }
   ],
   "source": [
    "topic_dict = {i.split(': ')[0]: int(i.split(': ')[1]) for i in response.split(sep='\\n')}\n",
    "if topic_dict['nasa'] == 1:\n",
    "    print(\"ALERT: New NASA story!\")"
   ]
  },
  {
   "cell_type": "markdown",
   "id": "f88408ae-469a-4b02-a043-f6b4f0b14bf9",
   "metadata": {},
   "source": [
    "## Try experimenting on your own!"
   ]
  },
  {
   "cell_type": "code",
   "execution_count": null,
   "id": "1bd3553f",
   "metadata": {
    "height": 30
   },
   "outputs": [],
   "source": []
  }
 ],
 "metadata": {
  "kernelspec": {
   "display_name": "Python 3 (ipykernel)",
   "language": "python",
   "name": "python3"
  },
  "language_info": {
   "codemirror_mode": {
    "name": "ipython",
    "version": 3
   },
   "file_extension": ".py",
   "mimetype": "text/x-python",
   "name": "python",
   "nbconvert_exporter": "python",
   "pygments_lexer": "ipython3",
   "version": "3.9.16"
  }
 },
 "nbformat": 4,
 "nbformat_minor": 5
}
