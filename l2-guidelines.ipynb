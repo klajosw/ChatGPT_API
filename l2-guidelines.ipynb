{
 "cells": [
  {
   "cell_type": "markdown",
   "id": "7ebe2e9d-685d-4ea3-ab7c-9589caaabff5",
   "metadata": {},
   "source": [
    "# Guidelines for Prompting\n",
    "In this lesson, you'll practice two prompting principles and their related tactics in order to write effective prompts for large language models.\n",
    "\n",
    "## Setup\n",
    "#### Load the API key and relevant Python libaries."
   ]
  },
  {
   "cell_type": "markdown",
   "id": "00bab499-9a50-4bd0-a622-1c914c6ccc29",
   "metadata": {},
   "source": [
    "In this course, we've provided some code that loads the OpenAI API key for you."
   ]
  },
  {
   "cell_type": "code",
   "execution_count": 1,
   "id": "6c382975",
   "metadata": {
    "height": 132
   },
   "outputs": [],
   "source": [
    "import openai\n",
    "import os\n",
    "\n",
    "from dotenv import load_dotenv, find_dotenv\n",
    "_ = load_dotenv(find_dotenv())\n",
    "\n",
    "openai.api_key  = os.getenv('OPENAI_API_KEY')"
   ]
  },
  {
   "cell_type": "markdown",
   "id": "a3acefa8-f8f1-4ef8-932e-9bcefa142666",
   "metadata": {},
   "source": [
    "#### helper function\n",
    "Throughout this course, we will use OpenAI's `gpt-3.5-turbo` model and the [chat completions endpoint](https://platform.openai.com/docs/guides/chat). \n",
    "\n",
    "This helper function will make it easier to use prompts and look at the generated outputs:"
   ]
  },
  {
   "cell_type": "code",
   "execution_count": 2,
   "id": "a7dff174",
   "metadata": {
    "height": 149
   },
   "outputs": [],
   "source": [
    "def get_completion(prompt, model=\"gpt-3.5-turbo\"):\n",
    "    messages = [{\"role\": \"user\", \"content\": prompt}]\n",
    "    response = openai.ChatCompletion.create(\n",
    "        model=model,\n",
    "        messages=messages,\n",
    "        temperature=0, # this is the degree of randomness of the model's output\n",
    "    )\n",
    "    return response.choices[0].message[\"content\"]"
   ]
  },
  {
   "cell_type": "markdown",
   "id": "3b62298e-2181-4e73-bb40-77e20c655231",
   "metadata": {},
   "source": [
    "## Prompting Principles\n",
    "- **Principle 1: Write clear and specific instructions**\n",
    "- **Principle 2: Give the model time to “think”**\n",
    "\n",
    "### Tactics\n",
    "\n",
    "#### Tactic 1: Use delimiters to clearly indicate distinct parts of the input\n",
    "- Delimiters can be anything like: ```, \"\"\", < >, `<tag> </tag>`, `:`"
   ]
  },
  {
   "cell_type": "code",
   "execution_count": 3,
   "id": "87121316",
   "metadata": {
    "height": 404
   },
   "outputs": [
    {
     "name": "stdout",
     "output_type": "stream",
     "text": [
      "A világtenger a földkerekség legnagyobb trezorja, rengeteg fantasztikus kincsekkel megrakott hajó merült a hullámsírba, közülük az I-52 japán tengeralattjáró 2,2 tonna színarannyal a fedélzetén süllyedt mélybe az Atlanti-óceánon, amely a második világháború legnagyobb és leghosszabb hatótávolsággal rendelkező búvárnaszádja volt.\n"
     ]
    }
   ],
   "source": [
    "text = f\"\"\"\n",
    "Nem véletlenül szokták a világtengert a földkerekség legnagyobb trezorjaként emlegetni. \n",
    "A múltban a tenger és a történelem viharaiban rengeteg hajónak veszett nyoma a világóceánon, \n",
    "amelyek közül nem egy fantasztikus kincsekkel a fedélzetén merült a hullámsírba. \n",
    "E mesés kincsekkel megrakott hajók közül a legtöbb még felfedezésre vár ugyan, \n",
    "de azért akadnak olyanok is, amiket megtaláltak, a rakományuk azonban még mindig odalent a mélységben várja, \n",
    "hogy a felszínre hozzák. Ilyen „kincses hajó\" például az 1944. július 22-én az \n",
    "Atlanti-óceánon egy amerikai torpedóbombázó támadása után mélybe süllyedt I-52 japán tengeralattjáró, \n",
    "amely 2,2 tonna színarannyal a fedélzetén merült hullámsírba.\n",
    "Szupertitkos küldetésre fut ki a második világháború legnagyobb tengeralattjárója\n",
    "A japán Type C-osztály tengeralattjárói voltak a második világháború legnagyobb, és leghosszabb hatótávolsággal rendelkező búvárnaszádjai. \n",
    "A 108,6 méter hosszú és 2564 tonna vízkiszorítású Type C tengeralattjárók maximum 39 ezer kilométert tudtak megtenni egyetlen feltankolással.\n",
    "Összehasonlításképp: a második világháború idején legnagyobb számban szolgálatba állított német tengeralattjárók, \n",
    "a VII-es típusú búvárnaszádok hossza 64,4 méter, a vízkiszorítása 745 tonna, a maximális harci hatósugara pedig 11 470 kilométer volt.\n",
    "A japán hadvezetés még 1942-ben határozta el egy rendkívül nagy teherbefogadó képességű szállító-tengeralattjáró-osztály rendszerbe állítását.\n",
    "\"\"\"\n",
    "prompt = f\"\"\"\n",
    "Foglalja össze a háromszoros jelöléssel határolt szöveget egyetlen mondatba.\n",
    "```{text}```\n",
    "\"\"\"\n",
    "response = get_completion(prompt)\n",
    "print(response)"
   ]
  },
  {
   "cell_type": "markdown",
   "id": "f2798f3d-7618-4ac5-a6b2-3c69c537903d",
   "metadata": {},
   "source": [
    "#### Tactic 2: Ask for a structured output\n",
    "- JSON, HTML"
   ]
  },
  {
   "cell_type": "code",
   "execution_count": 4,
   "id": "6b50bbbd",
   "metadata": {
    "height": 132
   },
   "outputs": [
    {
     "name": "stdout",
     "output_type": "stream",
     "text": [
      "[\n",
      "  {\n",
      "    \"könyvazonosító\": 1,\n",
      "    \"cím\": \"Az elveszett kincs\",\n",
      "    \"szerző\": \"János Péter\",\n",
      "    \"műfaj\": \"kalandregény\"\n",
      "  },\n",
      "  {\n",
      "    \"könyvazonosító\": 2,\n",
      "    \"cím\": \"A szerelem hálójában\",\n",
      "    \"szerző\": \"Kovács Anna\",\n",
      "    \"műfaj\": \"romantikus regény\"\n",
      "  },\n",
      "  {\n",
      "    \"könyvazonosító\": 3,\n",
      "    \"cím\": \"A tudós és a varázsló\",\n",
      "    \"szerző\": \"Nagy Gábor\",\n",
      "    \"műfaj\": \"fantasy regény\"\n",
      "  }\n",
      "]\n"
     ]
    }
   ],
   "source": [
    "prompt = f\"\"\"\n",
    "Hozzon létre egy listát három kitalált könyvcímből szerzőikkel és műfajaikkal.\n",
    "Adja meg őket JSON formátumban a következő kulcsokkal:\n",
    "könyvazonosító, cím, szerző, műfaj.\n",
    "\"\"\"\n",
    "response = get_completion(prompt)\n",
    "print(response)"
   ]
  },
  {
   "cell_type": "markdown",
   "id": "22a71c4f-b1f1-4d67-ad5a-e49fc1e3147d",
   "metadata": {},
   "source": [
    "#### Tactic 3: Ask the model to check whether conditions are satisfied"
   ]
  },
  {
   "cell_type": "code",
   "execution_count": 5,
   "id": "f0ae612e",
   "metadata": {
    "height": 472
   },
   "outputs": [
    {
     "name": "stdout",
     "output_type": "stream",
     "text": [
      "Completion for Text 1:\n",
      "1. lépés - Szerezzen be néhány forrásban lévő vizet.\n",
      "2. lépés - Tegyen egy teászacskót egy csészébe.\n",
      "3. lépés - Öntse rá a forró vizet a teászacskóra.\n",
      "4. lépés - Hagyja állni néhány percig, hogy a tea beázhasson.\n",
      "5. lépés - Vegye ki a teászacskót.\n",
      "6. lépés - Opcionálisan adhat hozzá cukrot vagy tejet az ízlése szerint.\n",
      "7. lépés - Élvezze a finom csésze teát.\n",
      "\n",
      "Ha a szöveg nem tartalmaz utasítássorozatot, akkor:\n",
      "\n",
      "\"Nincsenek lépések.\"\n"
     ]
    }
   ],
   "source": [
    "text_1 = f\"\"\"\n",
    "Egy csésze tea elkészítése egyszerű! Először is be kell szerezned néhány \n",
    "forrásban lévő víz. Amíg ez történik, \n",
    "fogj egy csészét, és tegyél bele egy teászacskót. Ha egyszer a víz \n",
    "elég forró, csak öntse rá a teászacskót. \n",
    "Hagyja állni egy kicsit, hogy a tea beázhasson. Után \n",
    "néhány perc, vegye ki a teászacskót majd ízlés szerint adhatunk hozzá cukrot vagy tejet. \\\n",
    "És ez az, milyen finomat kaptál élvezd a csésze teát.\n",
    "\"\"\"\n",
    "prompt = f\"\"\"\n",
    "Három idézőjelekkel határolt szöveg jelenik meg.\n",
    "Ha utasítássorozatot tartalmaz, \n",
    "írja át ezeket az utasításokat a következő formátumban:\n",
    "\n",
    "1. lépés- ...\n",
    "2. lépés - …\n",
    "…\n",
    "N. lépés - …\n",
    "\n",
    "Ha a szöveg nem tartalmaz utasítássorozatot, \n",
    "majd egyszerűen írja be: \\\"Nincsenek lépések\\\".\n",
    "\n",
    "\\\"\\\"\\\"{text_1}\\\"\\\"\\\"\n",
    "\"\"\"\n",
    "response = get_completion(prompt)\n",
    "print(\"Completion for Text 1:\")\n",
    "print(response)"
   ]
  },
  {
   "cell_type": "code",
   "execution_count": 6,
   "id": "76b6cc59",
   "metadata": {
    "height": 506
   },
   "outputs": [
    {
     "name": "stdout",
     "output_type": "stream",
     "text": [
      "Completion for Text 2:\n",
      "Nincsenek lépések.\n"
     ]
    }
   ],
   "source": [
    "text_2 = f\"\"\"\n",
    "Ma ragyogóan süt a nap, és a madarak \\\n",
    "éneklés. Ez egy gyönyörű nap egy \\\n",
    "séta a parkban. A virágok nyílnak, és a \\\n",
    "a fák lágyan ringatóznak a szellőben. Emberek \\\n",
    "kint vannak, és élvezik a szép időt. \\\n",
    "Néhányan piknikeznek, míg mások játszanak \\\n",
    "játékok vagy egyszerűen csak pihenni a füvön. Ez egy \\\n",
    "tökéletes nap a szabadban eltöltött idő és a \\\n",
    "a természet szépsége.\n",
    "\"\"\"\n",
    "prompt = f\"\"\"\n",
    "Három idézőjelekkel határolt szöveg jelenik meg.\n",
    "Ha utasítássorozatot tartalmaz, \\\n",
    "írja át ezeket az utasításokat a következő formátumban:\n",
    "\n",
    "1. lépés- ...\n",
    "2. lépés - …\n",
    "…\n",
    "N. lépés - …\n",
    "\n",
    "Ha a szöveg nem tartalmaz utasítássorozatot, \n",
    "majd egyszerűen írja be: \"Nincsenek lépések\".\n",
    "\n",
    "\\\"\\\"\\\"{text_2}\\\"\\\"\\\"\n",
    "\"\"\"\n",
    "response = get_completion(prompt)\n",
    "print(\"Completion for Text 2:\")\n",
    "print(response)"
   ]
  },
  {
   "cell_type": "markdown",
   "id": "3c5866b8-d8c7-4e19-93db-401315f64954",
   "metadata": {},
   "source": [
    "#### Tactic 4: \"Few-shot\" prompting"
   ]
  },
  {
   "cell_type": "code",
   "execution_count": 7,
   "id": "82ce1540",
   "metadata": {
    "height": 251
   },
   "outputs": [
    {
     "name": "stdout",
     "output_type": "stream",
     "text": [
      "<nagyszülő>: Az élet tele van változásokkal és kihívásokkal, és a rugalmasság az egyik legfontosabb tulajdonság, amely segít alkalmazkodni ezekhez. Ahogy a fák is hajladoznak a szélben, úgy kell nekünk is alkalmazkodni az élet viharaihoz. Azonban fontos, hogy ne veszítsük el az identitásunkat és az értékeinket, miközben alkalmazkodunk a változásokhoz.\n"
     ]
    }
   ],
   "source": [
    "prompt = f\"\"\"\n",
    "Az Ön feladata, hogy következetes stílusban válaszoljon.\n",
    "\n",
    "<gyerek>: Taníts meg a türelemre.\n",
    "\n",
    "<nagyszülő>: A legmélyebb folyót \\\n",
    "völgy szerény forrásból fakad; a \\\n",
    "a legnagyszerűbb szimfónia egyetlen hangból származik; \\\n",
    "a legbonyolultabb kárpit magányos fonallal kezdődik.\n",
    "\n",
    "<gyerek>: Taníts meg a rugalmasságról.\n",
    "\"\"\"\n",
    "response = get_completion(prompt)\n",
    "print(response)"
   ]
  },
  {
   "cell_type": "markdown",
   "id": "ece7a8ee-1a2d-415d-8c10-500ecff24b10",
   "metadata": {},
   "source": [
    "### Principle 2: Give the model time to “think” \n",
    "\n",
    "#### Tactic 1: Specify the steps required to complete a task"
   ]
  },
  {
   "cell_type": "code",
   "execution_count": 10,
   "id": "5e7d6860",
   "metadata": {
    "height": 489
   },
   "outputs": [
    {
     "name": "stdout",
     "output_type": "stream",
     "text": [
      "Befejezés azonnali 1:\n",
      "```\n",
      "Egy bájos faluban Jack és Jill testvérek vízért indulnak a dombtetőre. Az útjuk során baleset éri őket, de végül hazatérnek. A kalandvágyó testvérek azonban nem adják fel, és tovább folytatják a felfedezést.\n",
      "```\n",
      "\n",
      "Résumé en français:\n",
      "```\n",
      "Dans un charmant village, les frères Jack et Jill partent en mission pour chercher de l'eau sur une colline. En chemin, ils ont un accident mais finissent par rentrer chez eux. Cependant, les frères aventureux ne renoncent pas et continuent leur exploration avec joie.\n",
      "```\n",
      "\n",
      "Noms dans le résumé en français:\n",
      "- Jack\n",
      "- Jill\n",
      "\n",
      "JSON objektum:\n",
      "```\n",
      "{\n",
      "  \"french_summary\": \"Dans un charmant village, les frères Jack et Jill partent en mission pour chercher de l'eau sur une colline. En chemin, ils ont un accident mais finissent par rentrer chez eux. Cependant, les frères aventureux ne renoncent pas et continuent leur exploration avec joie.\",\n",
      "  \"num_names\": 2\n",
      "}\n",
      "```\n"
     ]
    }
   ],
   "source": [
    "text = f\"\"\"\n",
    "Egy bájos faluban a testvérek, Jack és Jill elindulnak \\\n",
    "egy küldetés vizet hozni egy dombtetőről \\\n",
    "jól. Ahogy felmásztak, vidáman énekeltek, szerencsétlenség \\\n",
    "megütötte – Jack megbotlott egy kőben, és összeesett \\\n",
    "le a dombról, Jill követte a példáját. \\\n",
    "Bár kissé megtépázott, a pár hazatért \\\n",
    "vigasztaló ölelések. A szerencsétlenség ellenére \\\n",
    "kalandvágyó lelkük csillap maradt, és \\\n",
    "örömmel folytatta a felfedezést.\n",
    "\"\"\"\n",
    "# example 1\n",
    "prompt_1 = f\"\"\"\n",
    "Hajtsa végre a következő műveleteket:\n",
    "1 - Foglalja össze a következő szöveget hármas ackticks 1 mondattal.\n",
    "2 - Fordítsa le az összefoglalót franciára.\n",
    "3 - Sorolja fel az egyes neveket a francia összefoglalóban.\n",
    "4 - Adjon ki egy json objektumot, amely a következőt tartalmazza: \\\n",
    "kulcsok: french_summary, num_names.\n",
    "\n",
    "Válaszait sortöréssel válassza el egymástól.\n",
    "\n",
    "szöveg:\n",
    "```{text}```\n",
    "\"\"\"\n",
    "response = get_completion(prompt_1)\n",
    "print(\"Befejezés azonnali 1:\")\n",
    "print(response)"
   ]
  },
  {
   "cell_type": "markdown",
   "id": "d0bb1dcf-95f5-4ee1-8c25-8b2abd5f0f0d",
   "metadata": {},
   "source": [
    "#### Ask for output in a specified format"
   ]
  },
  {
   "cell_type": "code",
   "execution_count": 11,
   "id": "3e4222cc",
   "metadata": {
    "height": 370
   },
   "outputs": [
    {
     "name": "stdout",
     "output_type": "stream",
     "text": [
      "\n",
      "kész 2:\n",
      "Összefoglaló: Jack és Jill testvérek egy küldetésre indulnak, hogy vizet hozzanak egy dombtetőről. Azonban Jack megbotlik és leesik a dombról, Jill pedig követi őt. Bár megsérültek, hazatérnek és folytatják a felfedezést.\n",
      "Fordítás: Jack et Jill, deux frères charmants, partent en mission pour chercher de l'eau d'une colline. Cependant, Jack trébuche et tombe de la colline, Jill le suit. Bien qu'ils soient un peu blessés, le couple rentre chez eux et continue leur exploration avec joie.\n",
      "Nevek: Jack, Jill\n",
      "Kimeneti JSON: {\"french_summary\": \"Jack et Jill, deux frères charmants, partent en mission pour chercher de l'eau d'une colline. Cependant, Jack trébuche et tombe de la colline, Jill le suit. Bien qu'ils soient un peu blessés, le couple rentre chez eux et continue leur exploration avec joie.\", \"num_names\": 2}\n"
     ]
    }
   ],
   "source": [
    "prompt_2 = f\"\"\"\n",
    "Az Ön feladata a következő műveletek végrehajtása:\n",
    "1 - Foglalja össze a következő szöveget, amelyet határol\n",
    "   <> 1 mondattal.\n",
    "2 - Fordítsa le az összefoglalót franciára.\n",
    "3 - Sorolja fel az egyes neveket a francia összefoglalóban.\n",
    "4 - Adjon ki egy json objektumot, amely tartalmazza a\n",
    "   következő kulcsok: french_summary, num_names.\n",
    "\n",
    "Használja a következő formátumot:\n",
    "Szöveg: <összefoglaló szöveg>\n",
    "Összegzés: <összefoglaló>\n",
    "Fordítás: <összefoglaló fordítás>\n",
    "Nevek: <olasz összefoglaló névjegyzék>\n",
    "Kimeneti JSON: <json összefoglalóval és szám_nevekkel>\n",
    "\n",
    "Text: <{text}>\n",
    "\"\"\"\n",
    "response = get_completion(prompt_2)\n",
    "print(\"\\nkész 2:\")\n",
    "print(response)"
   ]
  },
  {
   "cell_type": "markdown",
   "id": "fec80fdb-92db-48f6-8f1d-b03c26385bad",
   "metadata": {},
   "source": [
    "#### Tactic 2: Instruct the model to work out its own solution before rushing to a conclusion"
   ]
  },
  {
   "cell_type": "code",
   "execution_count": 12,
   "id": "ff5cc985",
   "metadata": {
    "height": 421
   },
   "outputs": [
    {
     "name": "stdout",
     "output_type": "stream",
     "text": [
      "Az diákok megoldása helyesnek tűnik. A teljes költség az első működési évben a négyzetméterek számának függvényében 450x + 100 000.\n"
     ]
    }
   ],
   "source": [
    "prompt = f\"\"\"\n",
    "Döntse el, hogy a tanuló megoldása helyes-e vagy sem.\n",
    "\n",
    "Kérdés:\n",
    "Napelemes rendszert építek és szükségem van \\\n",
    "  segít a pénzügyek kidolgozásában.\n",
    "- A telek ára 100 dollár / négyzetláb\n",
    "- Napelemeket 250 dollár/négyzetméter áron tudok venni\n",
    "- Megalkudtam egy karbantartási szerződést, ami költségbe kerül \\\n",
    "nekem évi 100 000 dollár lakás, és további 10 dollár négyzetméterenként \\\n",
    "láb\n",
    "Mennyi a teljes költség az első működési évben\n",
    "a négyzetméterek számának függvényében.\n",
    "\n",
    "Diákok megoldása:\n",
    "Legyen x a berendezés mérete négyzetlábban.\n",
    "Költségek:\n",
    "1. Telekköltség: 100x\n",
    "2. Napelem költség: 250x\n",
    "3. Fenntartási költség: 100 000 + 100x\n",
    "Teljes költség: 100x + 250x + 100 000 + 100x = 450x + 100 000\n",
    "\"\"\"\n",
    "response = get_completion(prompt)\n",
    "print(response)"
   ]
  },
  {
   "cell_type": "markdown",
   "id": "f322ebd9-0f8a-43aa-97fe-5eac70cdcc6a",
   "metadata": {},
   "source": [
    "#### Note that the student's solution is actually not correct.\n",
    "#### We can fix this by instructing the model to work out its own solution first."
   ]
  },
  {
   "cell_type": "code",
   "execution_count": 14,
   "id": "703f7003",
   "metadata": {
    "height": 999
   },
   "outputs": [
    {
     "name": "stdout",
     "output_type": "stream",
     "text": [
      "Az Ön megoldása helyes.\n",
      "A tanuló megoldása megegyezik a tényleges megoldással.\n",
      "Tanulói osztályzat: Helyes.\n"
     ]
    }
   ],
   "source": [
    "prompt = f\"\"\"\n",
    "Az Ön feladata annak meghatározása, hogy a tanuló megoldása \\\n",
    "helyes-e vagy sem.\n",
    "A probléma megoldásához tegye a következőket:\n",
    "- Először is dolgozza ki a saját megoldását a problémára.\n",
    "- Ezután hasonlítsa össze megoldását a tanuló megoldásával \\\n",
    "és értékelje, hogy a tanuló megoldása helyes-e vagy sem.\n",
    "Addig ne döntse el, hogy a tanuló megoldása helyes-e\n",
    "maga csinálta a problémát.\n",
    "\n",
    "Használja a következő formátumot:\n",
    "Kérdés:\n",
    "```\n",
    "kérdés itt\n",
    "```\n",
    "Tanulói megoldás:\n",
    "```\n",
    "hallgatói megoldás itt\n",
    "```\n",
    "Valós megoldás:\n",
    "```\n",
    "lépések a megoldás és az Ön megoldásának kidolgozásához itt\n",
    "```\n",
    "A tanuló megoldása megegyezik a tényleges megoldással?\n",
    "most számoltam:\n",
    "```\n",
    "igen vagy nem\n",
    "```\n",
    "Tanulói osztályzat:\n",
    "```\n",
    "helyes vagy helytelen\n",
    "```\n",
    "\n",
    "Kérdés:\n",
    "```\n",
    "Napelem telepítést építek és segítségre van szükségem \\\n",
    "kidolgozni a pénzügyeket.\n",
    "- A telek ára 100 dollár / négyzetláb\n",
    "- Napelemeket 250 dollár/négyzetméter áron tudok venni\n",
    "- Megalkudtam egy karbantartási szerződést, ami költségbe kerül \\\n",
    "nekem évi 100 000 dollár lakás, és további 10 dollár négyzetméterenként \\\n",
    "láb\n",
    "Mennyi a teljes költség az első működési évben \\\n",
    "a négyzetméterek számának függvényében.\n",
    "```\n",
    "Tanulói megoldás:\n",
    "```\n",
    "Legyen x a berendezés mérete négyzetlábban.\n",
    "Költségek:\n",
    "1. Telekköltség: 100x\n",
    "2. Napelem költség: 250x\n",
    "3. Fenntartási költség: 100 000 + 100x\n",
    "Teljes költség: 100x + 250x + 100 000 + 100x = 450x + 100 000\n",
    "```\n",
    "Valós megoldás:\n",
    "\"\"\"\n",
    "response = get_completion(prompt)\n",
    "print(response)"
   ]
  },
  {
   "cell_type": "markdown",
   "id": "8a207eab-a1b1-47a5-b913-fe38086123d0",
   "metadata": {},
   "source": [
    "## Model Limitations: Hallucinations\n",
    "- Boie is a real company, the product name is not real."
   ]
  },
  {
   "cell_type": "code",
   "execution_count": 15,
   "id": "81c80919",
   "metadata": {
    "height": 98
   },
   "outputs": [
    {
     "name": "stdout",
     "output_type": "stream",
     "text": [
      "A Boie AeroGlide UltraSlim intelligens fogkefe egy új generációs fogkefe, amelyet a Boie USA fejlesztett ki. Ez a fogkefe egyedülállóan vékony és könnyű, így kényelmesen használható akár utazás közben is. Az AeroGlide UltraSlim intelligens fogkefe két üzemmóddal rendelkezik: az egyik a normál üzemmód, amelyet a mindennapi fogmosáshoz használhatunk, a másik pedig az ultrahangos üzemmód, amely hatékonyabb tisztítást biztosít.\n",
      "\n",
      "Az AeroGlide UltraSlim intelligens fogkefe fején találhatók az ultrafinom szálak, amelyek hatékonyan távolítják el a fogak közötti ételmaradványokat és a plakkot. A fogkefe fejének kialakítása lehetővé teszi, hogy a fogkefe könnyen elérje a nehezen hozzáférhető helyeket is, így a fogmosás hatékonyabbá válik.\n",
      "\n",
      "Az AeroGlide UltraSlim intelligens fogkefe egy okos eszköz, amely Bluetooth kapcsolaton keresztül kommunikál a Boie alkalmazással. Az alkalmazás segítségével figyelemmel kísérhetjük a fogmosásunkat, és javaslatokat kaphatunk a fogmosási szokásaink javítására. Az alkalmazás emellett figyelmeztet minket, ha a fogkefe fejét cserélnünk kell.\n",
      "\n",
      "Összességében a Boie AeroGlide UltraSlim intelligens fogkefe egy hatékony és kényelmes megoldás a fogmosásra, amely segít javítani a fogmosási szokásainkat és a fogaink egészségét.\n"
     ]
    }
   ],
   "source": [
    "prompt = f\"\"\"\n",
    "Meséljen nekem a Boie AeroGlide UltraSlim intelligens fogkeféről\n",
    "\"\"\"\n",
    "response = get_completion(prompt)\n",
    "print(response)"
   ]
  },
  {
   "cell_type": "markdown",
   "id": "eea88a6e-0141-4296-a73b-6b2282fe0de6",
   "metadata": {},
   "source": [
    "## Try experimenting on your own!"
   ]
  },
  {
   "cell_type": "code",
   "execution_count": null,
   "id": "77457878",
   "metadata": {
    "height": 30
   },
   "outputs": [],
   "source": []
  },
  {
   "cell_type": "markdown",
   "id": "02294fd1-bc42-416a-b0cb-34d6d22b20cd",
   "metadata": {},
   "source": [
    "#### Notes on using the OpenAI API outside of this classroom\n",
    "\n",
    "To install the OpenAI Python library:\n",
    "```\n",
    "!pip install openai\n",
    "```\n",
    "\n",
    "The library needs to be configured with your account's secret key, which is available on the [website](https://platform.openai.com/account/api-keys). \n",
    "\n",
    "You can either set it as the `OPENAI_API_KEY` environment variable before using the library:\n",
    " ```\n",
    " !export OPENAI_API_KEY='sk-...'\n",
    " ```\n",
    "\n",
    "Or, set `openai.api_key` to its value:\n",
    "\n",
    "```\n",
    "import openai\n",
    "openai.api_key = \"sk-...\"\n",
    "```"
   ]
  },
  {
   "cell_type": "markdown",
   "id": "a2ef0aa7-77e5-465e-a0ac-21c7156c9339",
   "metadata": {},
   "source": [
    "#### A note about the backslash\n",
    "- In the course, we are using a backslash `\\` to make the text fit on the screen without inserting newline '\\n' characters.\n",
    "- GPT-3 isn't really affected whether you insert newline characters or not.  But when working with LLMs in general, you may consider whether newline characters in your prompt may affect the model's performance."
   ]
  },
  {
   "cell_type": "code",
   "execution_count": null,
   "id": "f92c1dcc-1cef-42f7-9291-fa1dfa9fcc1b",
   "metadata": {
    "height": 30
   },
   "outputs": [],
   "source": []
  }
 ],
 "metadata": {
  "kernelspec": {
   "display_name": "Python 3",
   "language": "python",
   "name": "python3"
  },
  "language_info": {
   "codemirror_mode": {
    "name": "ipython",
    "version": 3
   },
   "file_extension": ".py",
   "mimetype": "text/x-python",
   "name": "python",
   "nbconvert_exporter": "python",
   "pygments_lexer": "ipython3",
   "version": "3.8.8"
  }
 },
 "nbformat": 4,
 "nbformat_minor": 5
}
