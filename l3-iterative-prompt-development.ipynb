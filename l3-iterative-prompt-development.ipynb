{
 "cells": [
  {
   "cell_type": "markdown",
   "id": "b97ddf3b-d921-4169-9d82-b0ee95e9eccd",
   "metadata": {},
   "source": [
    "# Iterative Prompt Develelopment\n",
    "In this lesson, you'll iteratively analyze and refine your prompts to generate marketing copy from a product fact sheet.\n",
    "\n",
    "## Setup"
   ]
  },
  {
   "cell_type": "code",
   "execution_count": 1,
   "id": "2800e646",
   "metadata": {
    "height": 132
   },
   "outputs": [],
   "source": [
    "import openai\n",
    "import os\n",
    "\n",
    "from dotenv import load_dotenv, find_dotenv\n",
    "_ = load_dotenv(find_dotenv()) # read local .env file\n",
    "\n",
    "openai.api_key  = os.getenv('OPENAI_API_KEY')"
   ]
  },
  {
   "cell_type": "code",
   "execution_count": 2,
   "id": "9fb6f2de",
   "metadata": {
    "height": 149
   },
   "outputs": [],
   "source": [
    "def get_completion(prompt, model=\"gpt-3.5-turbo\"):\n",
    "    messages = [{\"role\": \"user\", \"content\": prompt}]\n",
    "    response = openai.ChatCompletion.create(\n",
    "        model=model,\n",
    "        messages=messages,\n",
    "        temperature=0, # this is the degree of randomness of the model's output\n",
    "    )\n",
    "    return response.choices[0].message[\"content\"]"
   ]
  },
  {
   "cell_type": "markdown",
   "id": "71d1a1df-03c3-4f38-af6d-3962362f3dcd",
   "metadata": {},
   "source": [
    "## Generate a marketing product description from a product fact sheet"
   ]
  },
  {
   "cell_type": "code",
   "execution_count": 4,
   "id": "5be90e47",
   "metadata": {
    "height": 693
   },
   "outputs": [],
   "source": [
    "fact_sheet_chair = \"\"\"\n",
    "ÁTTEKINTÉS\n",
    "- Egy gyönyörű, századközép ihletésű irodabútorcsalád része,\n",
    "beleértve az iratszekrényeket, íróasztalokat, könyvespolcokat, tárgyalóasztalokat stb.\n",
    "- Számos lehetőség a héj színére és az alapfelületekre.\n",
    "- Rendelhető műanyag hátsó és első kárpitozással (SWC-100)\n",
    "vagy teljes kárpitozás (SWC-110) 10 szövet és 6 bőr opcióban.\n",
    "- Az alapfelületek a következők: rozsdamentes acél, matt fekete,\n",
    "fényes fehér vagy króm.\n",
    "- A szék elérhető karfával vagy anélkül.\n",
    "- Alkalmas otthoni vagy üzleti környezetben.\n",
    "- Szerződéses használatra alkalmas.\n",
    "\n",
    "ÉPÍTKEZÉS\n",
    "- 5 kerék műanyag bevonatú alumínium talp.\n",
    "- Pneumatikus székbeállítás a könnyű emelés/leengedés érdekében.\n",
    "\n",
    "MÉRETEK\n",
    "- SZÉLESSÉG 53 CM | 20,87”\n",
    "- MÉLYSÉG 51 CM | 20,08”\n",
    "- MAGASSÁG 80 CM | 31,50”\n",
    "- ÜLÉSMAGASSÁG 44 CM | 17,32”\n",
    "- ÜLÉSMÉLYSÉG 41 CM | 16,14”\n",
    "\n",
    "LEHETŐSÉGEK\n",
    "- Puha vagy keménypadlós görgő lehetőségek.\n",
    "- Kétféle üléshab sűrűség közül választhat:\n",
    "  közepes (1,8 font/ft3) vagy magas (2,8 font/ft3)\n",
    "- Kar nélküli vagy 8 állású PU kartámasz\n",
    "\n",
    "ANYAGOK\n",
    "SHELL BASE GLIDER\n",
    "- Öntött alumínium, módosított nylon PA6/PA66 bevonattal.\n",
    "- Héj vastagsága: 10 mm.\n",
    "ÜLÉS\n",
    "- HD36 hab\n",
    "\n",
    "SZÁRMAZÁSI ORSZÁG\n",
    "- Olaszország\n",
    "\"\"\""
   ]
  },
  {
   "cell_type": "code",
   "execution_count": 5,
   "id": "4f656d0c",
   "metadata": {
    "height": 251
   },
   "outputs": [
    {
     "name": "stdout",
     "output_type": "stream",
     "text": [
      "Az irodabútorcsalád egy gyönyörű, századközép ihletésű darabja, amely magában foglalja az iratszekrényeket, íróasztalokat, könyvespolcokat, tárgyalóasztalokat és még sok mást. A héj színe és az alapfelületek számos lehetőséget kínálnak, így mindenki megtalálhatja a saját stílusát. A szék rendelhető műanyag hátsó és első kárpitozással vagy teljes kárpitozással, 10 szövet és 6 bőr opcióban. Az alapfelületek között választhatunk rozsdamentes acél, matt fekete, fényes fehér vagy króm között. A szék elérhető karfával vagy anélkül, és alkalmas otthoni vagy üzleti környezetben is használható. A szék építése 5 kerék műanyag bevonatú alumínium talpon áll, és pneumatikus székbeállítással rendelkezik a könnyű emelés/leengedés érdekében. A szék méretei a következők: szélesség 53 cm, mélység 51 cm, magasság 80 cm, ülésmagasság 44 cm és ülésmélység 41 cm. A szék puha vagy keménypadlós görgőkkel rendelhető, és két üléshab sűrűség közül választhatunk: közepes (1,8 font/ft3) vagy magas (2,8 font/ft3). A szék kar nélküli vagy 8 állású PU kartámaszokkal is rendelhető. Az irodabútorcsalád része Olaszországban készült, és szerződéses használatra is alkalmas.\n"
     ]
    }
   ],
   "source": [
    "prompt = f\"\"\"\n",
    "Az Ön feladata, hogy segítsen egy marketing csapatnak létrehozni a\n",
    "termék alapú kiskereskedelmi webhely leírása\n",
    "műszaki adatlapon.\n",
    "\n",
    "Írjon termékleírást az információk alapján\n",
    "által határolt műszaki leírásban biztosított\n",
    "tripla backticks.\n",
    "\n",
    "Műszaki adatok: ```{fact_sheet_chair}```\n",
    "\"\"\"\n",
    "response = get_completion(prompt)\n",
    "print(response)\n"
   ]
  },
  {
   "cell_type": "markdown",
   "id": "e1361d6f-6022-4b7a-8107-b2e2ff5efd32",
   "metadata": {},
   "source": [
    "## Issue 1: The text is too long \n",
    "- Limit the number of words/sentences/characters."
   ]
  },
  {
   "cell_type": "code",
   "execution_count": 6,
   "id": "f6129532",
   "metadata": {
    "height": 285
   },
   "outputs": [
    {
     "name": "stdout",
     "output_type": "stream",
     "text": [
      "A századközép ihletésű irodabútorcsalád tökéletes otthoni vagy üzleti környezetbe. Rendelhető műanyag vagy teljes kárpitozással, 10 szövet és 6 bőr opcióban. Az alumínium talp 5 kerekű és pneumatikus székbeállítással rendelkezik. A méretek: 53 cm szélesség, 51 cm mélység, 80 cm magasság, 44 cm ülésmagasság és 41 cm ülésmélység. Választhat puha vagy keménypadlós görgők, közepes vagy magas sűrűségű üléshab és kar nélküli vagy 8 állású PU kartámasz közül. Az irodabútorcsalád Olaszországból származik.\n"
     ]
    }
   ],
   "source": [
    "prompt = f\"\"\"\n",
    "Az Ön feladata, hogy segítsen egy marketing csapatnak létrehozni a\n",
    "termék alapú kiskereskedelmi webhely leírása\n",
    "műszaki adatlapon.\n",
    "\n",
    "Írjon termékleírást az információk alapján\n",
    "által határolt műszaki leírásban biztosított\n",
    "tripla backticks.\n",
    "\n",
    "Legfeljebb 50 szót használjon.\n",
    "\n",
    "Műszaki adatok: ```{fact_sheet_chair}```\n",
    "\"\"\"\n",
    "response = get_completion(prompt)\n",
    "print(response)\n"
   ]
  },
  {
   "cell_type": "code",
   "execution_count": 7,
   "id": "17f658d0",
   "metadata": {
    "height": 30
   },
   "outputs": [
    {
     "data": {
      "text/plain": [
       "502"
      ]
     },
     "execution_count": 7,
     "metadata": {},
     "output_type": "execute_result"
    }
   ],
   "source": [
    "len(response)"
   ]
  },
  {
   "cell_type": "markdown",
   "id": "a6de9c92-857c-4d1c-8fd1-192cf47c4763",
   "metadata": {},
   "source": [
    "## Issue 2. Text focuses on the wrong details\n",
    "- Ask it to focus on the aspects that are relevant to the intended audience."
   ]
  },
  {
   "cell_type": "code",
   "execution_count": 8,
   "id": "954a8a06",
   "metadata": {
    "height": 336
   },
   "outputs": [
    {
     "name": "stdout",
     "output_type": "stream",
     "text": [
      "A századközép ihletésű irodabútorcsalád többféle bútort tartalmaz, beleértve az iratszekrényeket, íróasztalokat és könyvespolcokat. A héj színe és az alapfelületek számos lehetőséget kínálnak, és a szék különböző kárpitozási és karfás lehetőségekkel rendelhető. Az alumínium talp és a pneumatikus székbeállítás biztosítja a könnyű használatot, és a puha vagy keménypadlós görgők közül választhat. Az üléshab sűrűsége és a kar nélküli vagy 8 állású PU kartámasz is testre szabható. Az öntött alumínium és a HD36 habból készült ülés minőségi anyagokból készültek. Made in Italy.\n"
     ]
    }
   ],
   "source": [
    "prompt = f\"\"\"\n",
    "Az Ön feladata, hogy segítsen egy marketing csapatnak létrehozni a\n",
    "termék alapú kiskereskedelmi webhely leírása\n",
    "műszaki adatlapon.\n",
    "\n",
    "Írjon termékleírást az információk alapján\n",
    "által határolt műszaki leírásban biztosított\n",
    "tripla backticks.\n",
    "\n",
    "A leírás bútorkereskedőknek szól,\n",
    "tehát technikai jellegűnek kell lennie, és arra kell összpontosítania\n",
    "anyagok, amelyekből a termék készült.\n",
    "\n",
    "Legfeljebb 50 szót használjon.\n",
    "\n",
    "Műszaki adatok: ```{fact_sheet_chair}```\n",
    "\"\"\"\n",
    "response = get_completion(prompt)\n",
    "print(response)"
   ]
  },
  {
   "cell_type": "code",
   "execution_count": 12,
   "id": "e9455d58",
   "metadata": {
    "height": 387
   },
   "outputs": [
    {
     "name": "stdout",
     "output_type": "stream",
     "text": [
      "Az SWC irodabútorcsalád századközép ihletésű darabjai között megtalálhatók az iratszekrények, íróasztalok, könyvespolcok és tárgyalóasztalok. A héj színe és az alapfelületek számos lehetőséget kínálnak, és rendelhető műanyag vagy teljes kárpitozással. Az alumínium talpú szék pneumatikus beállítással rendelkezik, és puha vagy keménypadlós görgőkkel is elérhető. Az üléshab sűrűsége közepes vagy magas lehet, és választható kar nélküli vagy 8 állású PU kartámasz. Az SWC irodabútorcsalád Olaszországban készült. Termékazonosító: SWC-100/110.\n"
     ]
    }
   ],
   "source": [
    "prompt = f\"\"\"\n",
    "Az Ön feladata, hogy segítsen egy marketing csapatnak létrehozni a\n",
    "termék alapú kiskereskedelmi webhely leírása\n",
    "műszaki adatlapon.\n",
    "\n",
    "Írjon termékleírást az információk alapján\n",
    "által határolt műszaki leírásban biztosított\n",
    "tripla backticks.\n",
    "\n",
    "A leírás bútorkereskedőknek szól,\n",
    "tehát technikai jellegűnek kell lennie, és arra kell összpontosítania\n",
    "anyagok, amelyekből a termék készült.\n",
    "\n",
    "A leírás végén minden 7 karakter szerepeljen\n",
    "Termékazonosító a műszaki leírásban.\n",
    "\n",
    "Legfeljebb 50 szót használjon.\n",
    "\n",
    "Műszaki adatok:```{fact_sheet_chair}```\n",
    "\"\"\"\n",
    "response = get_completion(prompt)\n",
    "print(response)"
   ]
  },
  {
   "cell_type": "markdown",
   "id": "5be496d5-54c9-443b-8116-0b3d3d9dc560",
   "metadata": {},
   "source": [
    "## Issue 3. Description needs a table of dimensions\n",
    "- Ask it to extract information and organize it in a table."
   ]
  },
  {
   "cell_type": "code",
   "execution_count": 9,
   "id": "0384f1e4",
   "metadata": {
    "height": 506
   },
   "outputs": [
    {
     "name": "stdout",
     "output_type": "stream",
     "text": [
      "<div>\n",
      "<h2>Irodabútorcsalád</h2>\n",
      "<p>Az irodabútorcsalád századközép ihletésű, és többféle bútort tartalmaz, mint például iratszekrények, íróasztalok, könyvespolcok, tárgyalóasztalok stb. A héj színe és az alapfelületek számos lehetőséget kínálnak. A bútor rendelhető műanyag hátsó és első kárpitozással (SWC-100) vagy teljes kárpitozással (SWC-110) 10 szövet és 6 bőr opcióban. Az alapfelületek között választhat rozsdamentes acél, matt fekete, fényes fehér vagy króm közül. A szék elérhető karfával vagy anélkül, és alkalmas otthoni vagy üzleti környezetben való használatra. Szerződéses használatra is alkalmas.</p>\n",
      "\n",
      "<h2>Építés</h2>\n",
      "<p>A szék 5 kerékkel rendelkezik, amelyek műanyag bevonattal vannak ellátva, és alumínium talpra vannak szerelve. A pneumatikus székbeállítás lehetővé teszi a könnyű emelést és leengedést.</p>\n",
      "\n",
      "<h2>Termékméretek</h2>\n",
      "<table>\n",
      "  <tr>\n",
      "    <th>Dimenzió</th>\n",
      "    <th>Méret (hüvelykben)</th>\n",
      "  </tr>\n",
      "  <tr>\n",
      "    <td>Szélesség</td>\n",
      "    <td>20,87\"</td>\n",
      "  </tr>\n",
      "  <tr>\n",
      "    <td>Mélység</td>\n",
      "    <td>20,08\"</td>\n",
      "  </tr>\n",
      "  <tr>\n",
      "    <td>Magasság</td>\n",
      "    <td>31,50\"</td>\n",
      "  </tr>\n",
      "  <tr>\n",
      "    <td>Ülésmagasság</td>\n",
      "    <td>17,32\"</td>\n",
      "  </tr>\n",
      "  <tr>\n",
      "    <td>Ülésmélység</td>\n",
      "    <td>16,14\"</td>\n",
      "  </tr>\n",
      "</table>\n",
      "\n",
      "<h2>Lehetőségek</h2>\n",
      "<p>A szék puha vagy keménypadlós görgőkkel rendelhető. Kétféle üléshab sűrűség közül választhat: közepes (1,8 font/ft3) vagy magas (2,8 font/ft3). A szék kar nélküli vagy 8 állású PU kartámaszokkal is rendelhető.</p>\n",
      "\n",
      "<h2>Anyagok</h2>\n",
      "<p>A héj öntött alumíniumból készült, módosított nylon PA6/PA66 bevonattal. A héj vastagsága 10 mm. Az ülés HD36 habból készült.</p>\n",
      "\n",
      "<h2>Termékazonosító</h2>\n",
      "<p>3f8d9a1</p>\n",
      "</div>\n"
     ]
    }
   ],
   "source": [
    "prompt = f\"\"\"\n",
    "Az Ön feladata, hogy segítsen egy marketing csapatnak létrehozni a\n",
    "termék alapú kiskereskedelmi webhely leírása\n",
    "műszaki adatlapon.\n",
    "\n",
    "Írjon termékleírást az információk alapján\n",
    "által határolt műszaki leírásban biztosított\n",
    "tripla backticks.\n",
    "\n",
    "A leírás bútorkereskedőknek szól,\n",
    "tehát technikai jellegűnek kell lennie, és arra kell összpontosítania\n",
    "anyagok, amelyekből a termék készült.\n",
    "\n",
    "A leírás végén minden 7 karakter szerepeljen\n",
    "Termékazonosító a műszaki leírásban.\n",
    "\n",
    "A leírás után mellékeljen egy táblázatot, amely megadja a\n",
    "a termék méretei. A táblázatnak két oszlopból kell állnia.\n",
    "Az első oszlopban írja be a dimenzió nevét.\n",
    "A második oszlopban csak hüvelykben adja meg a méreteket.\n",
    "\n",
    "Adja meg a táblázatnak a „Termékméretek” címet.\n",
    "\n",
    "Formázz mindent HTML-ként, ami egy webhelyen használható.\n",
    "Helyezze a leírást egy <div> elembe.: ```{fact_sheet_chair}```\n",
    "\"\"\"\n",
    "\n",
    "response = get_completion(prompt)\n",
    "print(response)"
   ]
  },
  {
   "cell_type": "markdown",
   "id": "d681db67-6d59-40c1-a36b-4d76729a690d",
   "metadata": {},
   "source": [
    "## Load Python libraries to view HTML"
   ]
  },
  {
   "cell_type": "code",
   "execution_count": 10,
   "id": "73ff0052",
   "metadata": {
    "height": 30
   },
   "outputs": [],
   "source": [
    "from IPython.display import display, HTML"
   ]
  },
  {
   "cell_type": "code",
   "execution_count": 11,
   "id": "3465ffce",
   "metadata": {
    "height": 30
   },
   "outputs": [
    {
     "data": {
      "text/html": [
       "<div>\n",
       "<h2>Irodabútorcsalád</h2>\n",
       "<p>Az irodabútorcsalád századközép ihletésű, és többféle bútort tartalmaz, mint például iratszekrények, íróasztalok, könyvespolcok, tárgyalóasztalok stb. A héj színe és az alapfelületek számos lehetőséget kínálnak. A bútor rendelhető műanyag hátsó és első kárpitozással (SWC-100) vagy teljes kárpitozással (SWC-110) 10 szövet és 6 bőr opcióban. Az alapfelületek között választhat rozsdamentes acél, matt fekete, fényes fehér vagy króm közül. A szék elérhető karfával vagy anélkül, és alkalmas otthoni vagy üzleti környezetben való használatra. Szerződéses használatra is alkalmas.</p>\n",
       "\n",
       "<h2>Építés</h2>\n",
       "<p>A szék 5 kerékkel rendelkezik, amelyek műanyag bevonattal vannak ellátva, és alumínium talpra vannak szerelve. A pneumatikus székbeállítás lehetővé teszi a könnyű emelést és leengedést.</p>\n",
       "\n",
       "<h2>Termékméretek</h2>\n",
       "<table>\n",
       "  <tr>\n",
       "    <th>Dimenzió</th>\n",
       "    <th>Méret (hüvelykben)</th>\n",
       "  </tr>\n",
       "  <tr>\n",
       "    <td>Szélesség</td>\n",
       "    <td>20,87\"</td>\n",
       "  </tr>\n",
       "  <tr>\n",
       "    <td>Mélység</td>\n",
       "    <td>20,08\"</td>\n",
       "  </tr>\n",
       "  <tr>\n",
       "    <td>Magasság</td>\n",
       "    <td>31,50\"</td>\n",
       "  </tr>\n",
       "  <tr>\n",
       "    <td>Ülésmagasság</td>\n",
       "    <td>17,32\"</td>\n",
       "  </tr>\n",
       "  <tr>\n",
       "    <td>Ülésmélység</td>\n",
       "    <td>16,14\"</td>\n",
       "  </tr>\n",
       "</table>\n",
       "\n",
       "<h2>Lehetőségek</h2>\n",
       "<p>A szék puha vagy keménypadlós görgőkkel rendelhető. Kétféle üléshab sűrűség közül választhat: közepes (1,8 font/ft3) vagy magas (2,8 font/ft3). A szék kar nélküli vagy 8 állású PU kartámaszokkal is rendelhető.</p>\n",
       "\n",
       "<h2>Anyagok</h2>\n",
       "<p>A héj öntött alumíniumból készült, módosított nylon PA6/PA66 bevonattal. A héj vastagsága 10 mm. Az ülés HD36 habból készült.</p>\n",
       "\n",
       "<h2>Termékazonosító</h2>\n",
       "<p>3f8d9a1</p>\n",
       "</div>"
      ],
      "text/plain": [
       "<IPython.core.display.HTML object>"
      ]
     },
     "metadata": {},
     "output_type": "display_data"
    }
   ],
   "source": [
    "display(HTML(response))"
   ]
  },
  {
   "cell_type": "markdown",
   "id": "8ed02a02-9e12-4f63-97bd-f52064b18666",
   "metadata": {},
   "source": [
    "## Try experimenting on your own!"
   ]
  },
  {
   "cell_type": "code",
   "execution_count": null,
   "id": "dbe1f850",
   "metadata": {
    "height": 30
   },
   "outputs": [],
   "source": []
  }
 ],
 "metadata": {
  "kernelspec": {
   "display_name": "Python 3 (ipykernel)",
   "language": "python",
   "name": "python3"
  },
  "language_info": {
   "codemirror_mode": {
    "name": "ipython",
    "version": 3
   },
   "file_extension": ".py",
   "mimetype": "text/x-python",
   "name": "python",
   "nbconvert_exporter": "python",
   "pygments_lexer": "ipython3",
   "version": "3.9.16"
  }
 },
 "nbformat": 4,
 "nbformat_minor": 5
}
